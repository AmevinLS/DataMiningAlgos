{
 "cells": [
  {
   "cell_type": "code",
   "execution_count": 163,
   "metadata": {},
   "outputs": [],
   "source": [
    "import pandas as pd\n",
    "from itertools import combinations\n",
    "\n",
    "from functools import cmp_to_key"
   ]
  },
  {
   "cell_type": "code",
   "execution_count": 170,
   "metadata": {},
   "outputs": [],
   "source": [
    "@cmp_to_key\n",
    "def _itemset_str_comparator(a:str, b: str):\n",
    "        if len(a) < len(b):\n",
    "            return -1\n",
    "        if len(a) > len(b):\n",
    "            return 1\n",
    "\n",
    "        if a < b:\n",
    "            return -1\n",
    "        if a > b:\n",
    "            return 1\n",
    "        return 0"
   ]
  },
  {
   "cell_type": "code",
   "execution_count": 180,
   "metadata": {},
   "outputs": [],
   "source": [
    "class AprioriSolver:\n",
    "    def __init__(self, data: list, minsup: int):\n",
    "        self.data = [set(str(x)) for x in data]\n",
    "        self.minsup = minsup\n",
    "        self._unique_attributes = set.union(*self.data)\n",
    "\n",
    "    def _support(self, itemset: set):\n",
    "        res = 0\n",
    "        for transaction in self.data:\n",
    "            if itemset.issubset(transaction):\n",
    "                res += 1\n",
    "        return res\n",
    "\n",
    "    def _freq_itemsets_bruteforce(self, size=1):\n",
    "        res = []\n",
    "        for combo in combinations(self._unique_attributes, size):\n",
    "            itemset = set(combo)\n",
    "            if self._support(itemset) >= self.minsup:\n",
    "                res.append(itemset)\n",
    "\n",
    "        return res\n",
    "\n",
    "    def apriori_gen(self, L_k1, k):\n",
    "        C_k = []\n",
    "        for p in L_k1:\n",
    "            for q in L_k1:\n",
    "                if k > 2 and list(p)[:k-2] != list(q)[:k-2]:\n",
    "                    continue\n",
    "                if k > 1 and list(p)[k-2] >= list(q)[k-2]:\n",
    "                    continue\n",
    "                C_k.append(set.union(p, q))\n",
    "\n",
    "        bad_cs = []\n",
    "        for c in C_k:\n",
    "            for item in c:\n",
    "                subset = c.difference({item})\n",
    "                if subset not in L_k1:\n",
    "                    bad_cs.append(c)\n",
    "\n",
    "        for bad_c in bad_cs:\n",
    "            C_k.remove(bad_c)\n",
    "\n",
    "        return C_k\n",
    "\n",
    "    def apriori(self, verbose=False):\n",
    "        L = [None, self._freq_itemsets_bruteforce()]\n",
    "        C = [None, [{x} for x in self._unique_attributes]]\n",
    "        k = 2\n",
    "        while len(L[k-1]) > 0:\n",
    "            C_k = self.apriori_gen(L[k-1], k)\n",
    "            L_k = []\n",
    "\n",
    "            for c in C_k:\n",
    "                if self._support(c) >= self.minsup:\n",
    "                    L_k.append(c)\n",
    "\n",
    "            L.append(L_k)\n",
    "            C.append(C_k)\n",
    "\n",
    "            k += 1\n",
    "\n",
    "        self.Ls = L\n",
    "        self.Cs = C\n",
    "\n",
    "    def print_report(self):\n",
    "        print(\"Main Apriori Process:\")\n",
    "        for i in range(1, len(self.Ls)):\n",
    "            C_dict, L_dict = dict(), dict()\n",
    "            for c in self.Cs[i]:\n",
    "                C_dict[\"\".join(sorted(c))] = self._support(c)\n",
    "            for l in self.Ls[i]:\n",
    "                L_dict[\"\".join(sorted(l))] = self._support(l)\n",
    "\n",
    "            keys = list(sorted(C_dict.keys()))\n",
    "            C_dict = {key: C_dict[key] for key in keys}\n",
    "\n",
    "            keys = list(sorted(L_dict.keys()))\n",
    "            L_dict = {key: L_dict[key] for key in keys}\n",
    "\n",
    "            print(f\"C{i}: {C_dict}\")\n",
    "            print(f\"L{i}: {L_dict}\")\n",
    "            print(\"=============\")\n",
    "\n",
    "    def _format_itemset_list_as_dict(self, l: list):\n",
    "        res_dict = dict()\n",
    "        for c in l:\n",
    "            res_dict[\"\".join(sorted(c))] = self._support(c)\n",
    "\n",
    "        keys = list(sorted(res_dict.keys(), key=_itemset_str_comparator))\n",
    "        res_dict = {key: res_dict[key] for key in keys}\n",
    "        return res_dict\n",
    "\n",
    "    def _is_superset_in_list(self, s: set, l: list):\n",
    "        for elem in l:\n",
    "            if elem.issuperset(s):\n",
    "                return True\n",
    "        return False\n",
    "\n",
    "    def get_maximal_frequent(self):\n",
    "        result = []\n",
    "        for i in range(1, len(self.Ls)-1):\n",
    "            for itemset in self.Ls[i]:\n",
    "                if not self._is_superset_in_list(itemset, self.Ls[i+1]):\n",
    "                    result.append(itemset)\n",
    "        result.extend(self.Ls[-1])\n",
    "        result = self._format_itemset_list_as_dict(result)\n",
    "        return result\n",
    "        \n",
    "\n",
    "    def get_closed_frequent(self):\n",
    "        result = []\n",
    "        for i in range(1, len(self.Ls)-1):\n",
    "            for itemset in self.Ls[i]:\n",
    "                good = True\n",
    "                for upper in self.Ls[i+1]:\n",
    "                    if upper.issuperset(itemset) and self._support(itemset) == self._support(upper):\n",
    "                        good = False\n",
    "                        break\n",
    "                if good:\n",
    "                    result.append(itemset)\n",
    "        result.extend(self.Ls[-1])\n",
    "        result = self._format_itemset_list_as_dict(result)\n",
    "        return result"
   ]
  },
  {
   "cell_type": "code",
   "execution_count": 182,
   "metadata": {},
   "outputs": [
    {
     "name": "stdout",
     "output_type": "stream",
     "text": [
      "Main Apriori Process:\n",
      "C1: {'A': 4, 'B': 6, 'C': 4, 'D': 4, 'E': 5}\n",
      "L1: {'A': 4, 'B': 6, 'C': 4, 'D': 4, 'E': 5}\n",
      "=============\n",
      "C2: {'AB': 4, 'AC': 2, 'AD': 3, 'AE': 4, 'BC': 4, 'BD': 4, 'BE': 5, 'CD': 2, 'CE': 3, 'DE': 3}\n",
      "L2: {'AB': 4, 'AC': 2, 'AD': 3, 'AE': 4, 'BC': 4, 'BD': 4, 'BE': 5, 'CD': 2, 'CE': 3, 'DE': 3}\n",
      "=============\n",
      "C3: {'ABC': 2, 'ABD': 3, 'ABE': 4, 'ACD': 1, 'ACE': 2, 'ADE': 3, 'BCD': 2, 'BCE': 3, 'BDE': 3, 'CDE': 1}\n",
      "L3: {'ABC': 2, 'ABD': 3, 'ABE': 4, 'ACE': 2, 'ADE': 3, 'BCD': 2, 'BCE': 3, 'BDE': 3}\n",
      "=============\n",
      "C4: {'ABCE': 2, 'ABDE': 3}\n",
      "L4: {'ABCE': 2, 'ABDE': 3}\n",
      "=============\n",
      "C5: {}\n",
      "L5: {}\n",
      "=============\n"
     ]
    }
   ],
   "source": [
    "data = ['ABDE', 'BCE', 'ABDE', 'ABCE', 'ABCDE', 'BCD']\n",
    "apriorisolver = AprioriSolver(data, minsup=2)\n",
    "apriorisolver.apriori()\n",
    "apriorisolver.print_report()"
   ]
  },
  {
   "cell_type": "code",
   "execution_count": 179,
   "metadata": {},
   "outputs": [
    {
     "data": {
      "text/plain": [
       "{'B': 6,\n",
       " 'BC': 4,\n",
       " 'BD': 4,\n",
       " 'BE': 5,\n",
       " 'ABE': 4,\n",
       " 'BCD': 2,\n",
       " 'BCE': 3,\n",
       " 'ABCE': 2,\n",
       " 'ABDE': 3}"
      ]
     },
     "execution_count": 179,
     "metadata": {},
     "output_type": "execute_result"
    }
   ],
   "source": [
    "apriorisolver.get_closed_frequent()"
   ]
  },
  {
   "cell_type": "code",
   "execution_count": 178,
   "metadata": {},
   "outputs": [
    {
     "data": {
      "text/plain": [
       "{'BCD': 2, 'ABCE': 2, 'ABDE': 3}"
      ]
     },
     "execution_count": 178,
     "metadata": {},
     "output_type": "execute_result"
    }
   ],
   "source": [
    "apriorisolver.get_maximal_frequent()"
   ]
  }
 ],
 "metadata": {
  "kernelspec": {
   "display_name": "Python 3.8.13 ('ml_stuff')",
   "language": "python",
   "name": "python3"
  },
  "language_info": {
   "codemirror_mode": {
    "name": "ipython",
    "version": 3
   },
   "file_extension": ".py",
   "mimetype": "text/x-python",
   "name": "python",
   "nbconvert_exporter": "python",
   "pygments_lexer": "ipython3",
   "version": "3.8.13"
  },
  "orig_nbformat": 4,
  "vscode": {
   "interpreter": {
    "hash": "e375afa3077a0e385e787b2faa1f8fef2fe9be2c8e0ccb32dfa53213e5158247"
   }
  }
 },
 "nbformat": 4,
 "nbformat_minor": 2
}
